{
 "cells": [
  {
   "cell_type": "code",
   "execution_count": 1,
   "metadata": {},
   "outputs": [],
   "source": [
    "import data as dt\n",
    "import pandas as pd\n",
    "import numpy as np \n",
    "import fair_classification.utils as ut\n",
    "import json\n",
    "import os\n",
    "import math\n",
    "import data as dt\n",
    "\n",
    "from sklearn.metrics import f1_score\n",
    "from collections import defaultdict\n",
    "from fairlearn.metrics import (\n",
    "    MetricFrame, plot_model_comparison,\n",
    "    selection_rate, demographic_parity_difference, demographic_parity_ratio,\n",
    "    false_positive_rate, false_negative_rate,\n",
    "    false_positive_rate_difference, false_negative_rate_difference,\n",
    "    equalized_odds_difference)\n"
   ]
  },
  {
   "cell_type": "code",
   "execution_count": 2,
   "metadata": {},
   "outputs": [],
   "source": [
    "# stores key value pairs of dataset, sensitive attributes and target labels\n",
    "DATA2D = {'adult': 'target',\n",
    "          'compas': 'ScoreText_',\n",
    "          'german': 'loan_status',\n",
    "          'synthetic' : 'D'}\n",
    "\n",
    "DATA2S = {'adult': 'sex',\n",
    "          'compas': 'Ethnic_Code_Text_',\n",
    "          'german': 'sex',\n",
    "          'synthetic': 'S'}\n",
    "\n",
    "NAMES = ['adult', 'compas', 'german', 'synthetic']"
   ]
  },
  {
   "cell_type": "code",
   "execution_count": 3,
   "metadata": {},
   "outputs": [],
   "source": [
    "config_path = os.path.join(\"report.json\")\n",
    "config = None\n",
    "\n",
    "with open(config_path, 'r') as fh:\n",
    "    content = json.load(fh)\n",
    "\n",
    "\n",
    "\n",
    "dataset = content['dataset']\n",
    "exp_num = content['exp-id']\n",
    "fold = content['fold']\n",
    "num_X = content['num_X']"
   ]
  },
  {
   "cell_type": "code",
   "execution_count": 4,
   "metadata": {},
   "outputs": [],
   "source": [
    "train_data, test_data, cloumns, learn_decision_label, train_y_fair, train_y_proxy, test_y_fair, test_y_proxy = dt.load_data(dataset, fold, num_X=num_X, use_fair=False, exp_num=exp_num)\n",
    "X_train = np.array(train_data.drop(columns=cloumns))\n",
    "X_test = np.array(test_data.drop(columns=cloumns))\n",
    "s_train = np.array(train_data[DATA2S[dataset]])\n",
    "protected_train = [s_train]\n",
    "s_test = np.array(test_data[DATA2S[dataset]])\n",
    "protected_test = [s_test]"
   ]
  },
  {
   "cell_type": "code",
   "execution_count": 5,
   "metadata": {},
   "outputs": [],
   "source": [
    "models_dict = {}\n",
    "ans = {}"
   ]
  },
  {
   "attachments": {},
   "cell_type": "markdown",
   "metadata": {},
   "source": [
    "## Fair Metrics"
   ]
  },
  {
   "cell_type": "code",
   "execution_count": 6,
   "metadata": {},
   "outputs": [],
   "source": [
    "def summary(prob, true_label, sv):\n",
    "    try:\n",
    "        pred = (prob > 0.5).astype(int)\n",
    "        fair_metrics = {}\n",
    "        fair_metrics[\"accuracy\"] = dt.accuracy(prob, true_label)\n",
    "        fair_metrics[\"precision\"] = dt.precision(prob, true_label)\n",
    "        fair_metrics[\"f1_score\"] = f1_score(pred, true_label)\n",
    "        fair_metrics[\"recall\"] = dt.recall(prob, true_label)\n",
    "        fair_metrics[\"Overall selection rate\"] = selection_rate(true_label, pred)\n",
    "        fair_metrics[\"Demographic parity difference\"] = demographic_parity_difference(true_label, pred, sensitive_features=sv)\n",
    "        fair_metrics[\"Demographic parity ratio\"] = demographic_parity_ratio(true_label, pred, sensitive_features=sv)\n",
    "        fair_metrics[\"False positive rate difference\"] = false_positive_rate_difference(true_label, pred, sensitive_features=sv)\n",
    "        fair_metrics[\"Equalized odds difference\"] = equalized_odds_difference(true_label, pred, sensitive_features=sv)\n",
    "        fair_metrics[\"False negative rate difference\"] = false_negative_rate_difference(true_label, pred, sensitive_features=sv)\n",
    "        return fair_metrics\n",
    "\n",
    "    except TypeError as e:\n",
    "        print(f\"{prob=}, {true_label=}\")\n",
    "        print(f\"{type(prob)=} , {type(true_label)=}\")\n",
    "        print(\"error\")\n",
    "        print(f\"{e.with_traceback()=}\")\n",
    "    # print(fair_metrics)\n",
    "    # return pd.DataFrame.from_dict(fair_metrics, orient=\"index\", columns=fair_metrics.keys())"
   ]
  },
  {
   "cell_type": "code",
   "execution_count": 7,
   "metadata": {},
   "outputs": [],
   "source": [
    "def analyze(models_dict, s_test):\n",
    "    res = {}\n",
    "    for name, models in models_dict.items():\n",
    "        res[name] = {}\n",
    "        print(name)\n",
    "        print(models.keys())\n",
    "        for exp, metrics in models.items():\n",
    "            print(exp)\n",
    "            res[name][exp] = {}\n",
    "            res[name][exp][\"proxy\"] = summary(metrics[\"prob_test\"], test_y_fair, s_test )\n",
    "            res[name][exp][\"fair\"] = summary(metrics[\"prob_test\"], test_y_proxy, s_test )\n",
    "    return res"
   ]
  },
  {
   "attachments": {},
   "cell_type": "markdown",
   "metadata": {},
   "source": [
    "## REWEIGHT"
   ]
  },
  {
   "cell_type": "code",
   "execution_count": 8,
   "metadata": {},
   "outputs": [],
   "source": [
    "import reweight as rw"
   ]
  },
  {
   "cell_type": "code",
   "execution_count": 9,
   "metadata": {},
   "outputs": [
    {
     "name": "stdout",
     "output_type": "stream",
     "text": [
      "[-0.01909891]\n",
      "Train Accuracy 0.1617283950617284\n",
      "Train Violation 0.0008263243323004543  \t\t All violations [0.0008263243323004543]\n",
      "Test Accuracy 0.44\n",
      "Test Violation 0.050000000000000044  \t\t All violations [-0.050000000000000044]\n",
      "\n",
      "\n",
      "[0.17457577]\n",
      "Train Accuracy 0.27037037037037037\n",
      "Train Violation 0.001003393832079147  \t\t All violations [0.001003393832079147]\n",
      "Test Accuracy 0.29\n",
      "Test Violation 0.0485714285714286  \t\t All violations [-0.0485714285714286]\n",
      "\n",
      "\n",
      "[-0.01909891]\n",
      "Train Accuracy 0.1617283950617284\n",
      "Train Violation 0.0008263243323004543  \t\t All violations [0.0008263243323004543]\n",
      "Test Accuracy 0.17\n",
      "Test Violation 0.050000000000000044  \t\t All violations [-0.050000000000000044]\n",
      "\n",
      "\n",
      "[0.17457577]\n",
      "Train Accuracy 0.27037037037037037\n",
      "Train Violation 0.001003393832079147  \t\t All violations [0.001003393832079147]\n",
      "Test Accuracy 0.3\n",
      "Test Violation 0.0485714285714286  \t\t All violations [-0.0485714285714286]\n",
      "\n",
      "\n"
     ]
    }
   ],
   "source": [
    "\n",
    "models_dict[\"reweight\"] = {}\n",
    "models_dict[\"reweight\"][\"pre\"] = rw.learning(X_train, train_y_fair, X_test, test_y_proxy, protected_train, protected_test)\n",
    "models_dict[\"reweight\"][\"post\"] = rw.learning(X_train, train_y_proxy, X_test, test_y_fair, protected_train, protected_test)\n",
    "models_dict[\"reweight\"][\"pre_post\"] = rw.learning(X_train, train_y_fair, X_test, test_y_fair, protected_train, protected_test)\n",
    "models_dict[\"reweight\"][\"proxy\"] = rw.learning(X_train, train_y_proxy, X_test, test_y_proxy, protected_train, protected_test)"
   ]
  },
  {
   "attachments": {},
   "cell_type": "markdown",
   "metadata": {},
   "source": [
    "## FAIR LR"
   ]
  },
  {
   "cell_type": "code",
   "execution_count": 10,
   "metadata": {},
   "outputs": [],
   "source": [
    "import fair_lr as flr"
   ]
  },
  {
   "cell_type": "code",
   "execution_count": 11,
   "metadata": {},
   "outputs": [],
   "source": [
    "x_control_test = {DATA2S[dataset]: s_test}\n",
    "x_control_train= {DATA2S[dataset]: s_train}\n",
    "\n",
    "lr_y_train_fair = np.array([-1 if y == 0 else 1 for y in train_y_fair])\n",
    "lr_y_train_proxy = np.array([-1 if y == 0 else 1 for y in train_y_proxy])\n",
    "lr_y_test_proxy = np.array([-1 if y == 0 else 1 for y in test_y_proxy])\n",
    "lr_y_test_fair = np.array([-1 if y == 0 else 1 for y in test_y_fair])"
   ]
  },
  {
   "cell_type": "code",
   "execution_count": 12,
   "metadata": {},
   "outputs": [
    {
     "name": "stdout",
     "output_type": "stream",
     "text": [
      "Accuracy: 0.56\n",
      "Protected/non-protected in +ve class: 69% / 71%\n",
      "P-rule achieved: 97%\n",
      "Covariance between sensitive feature and decision from distance boundary : 0.111\n",
      "<class 'dict'>\n",
      "Accuracy: 0.69\n",
      "Protected/non-protected in +ve class: 78% / 93%\n",
      "P-rule achieved: 84%\n",
      "Covariance between sensitive feature and decision from distance boundary : 0.062\n",
      "<class 'dict'>\n",
      "Accuracy: 0.85\n",
      "Protected/non-protected in +ve class: 69% / 71%\n",
      "P-rule achieved: 97%\n",
      "Covariance between sensitive feature and decision from distance boundary : 0.112\n",
      "<class 'dict'>\n",
      "Accuracy: 0.64\n",
      "Protected/non-protected in +ve class: 78% / 93%\n",
      "P-rule achieved: 84%\n",
      "Covariance between sensitive feature and decision from distance boundary : 0.062\n",
      "<class 'dict'>\n"
     ]
    }
   ],
   "source": [
    "models_dict[\"fair_lr\"] = {}\n",
    "models_dict[\"fair_lr\"][\"pre\"] = flr.model(X_train, lr_y_train_fair, x_control_train, X_test, lr_y_test_proxy, x_control_test, DATA2S[dataset])[2]\n",
    "models_dict[\"fair_lr\"][\"post\"] = flr.model(X_train, lr_y_train_proxy, x_control_train, X_test, lr_y_test_fair, x_control_test, DATA2S[dataset])[2]\n",
    "models_dict[\"fair_lr\"][\"pre_post\"] = flr.model(X_train, lr_y_train_fair, x_control_train, X_test, lr_y_test_fair, x_control_test, DATA2S[dataset])[2]\n",
    "models_dict[\"fair_lr\"][\"proxy\"] = flr.model(X_train, lr_y_train_proxy, x_control_train, X_test, lr_y_test_proxy, x_control_test, DATA2S[dataset])[2]\n"
   ]
  },
  {
   "attachments": {},
   "cell_type": "markdown",
   "metadata": {},
   "source": [
    "## Fair Reduction"
   ]
  },
  {
   "cell_type": "code",
   "execution_count": 17,
   "metadata": {},
   "outputs": [],
   "source": [
    "import fair_reduction as fr\n",
    "from fairlearn.reductions import ExponentiatedGradient\n",
    "from fairlearn.reductions import DemographicParity\n",
    "from sklearn.linear_model import LogisticRegression\n"
   ]
  },
  {
   "cell_type": "code",
   "execution_count": 18,
   "metadata": {},
   "outputs": [],
   "source": [
    "def reduction(y_label):\n",
    "    learn = ExponentiatedGradient(\n",
    "            LogisticRegression(solver='liblinear', fit_intercept=True),\n",
    "            constraints=DemographicParity())\n",
    "\n",
    "    learn.fit(X_train, y_label, sensitive_features=s_train)\n",
    "\n",
    "        # predict\n",
    "    prob_test = learn._pmf_predict(X_test)[:, 1]\n",
    "    prob_train = learn._pmf_predict(X_train)[:, 1]\n",
    "    res = {}\n",
    "    res[\"prob_train\"] = prob_test\n",
    "    res[\"prob_test\"] = prob_test\n",
    "    return res"
   ]
  },
  {
   "cell_type": "code",
   "execution_count": null,
   "metadata": {},
   "outputs": [],
   "source": [
    "models_dict[\"reduction\"] = {}\n",
    "models_dict[\"reduction\"][\"pre\"] = reduction(train_y_fair)\n",
    "models_dict[\"reduction\"][\"post\"] = reduction(train_y_proxy)\n"
   ]
  },
  {
   "cell_type": "code",
   "execution_count": 13,
   "metadata": {},
   "outputs": [
    {
     "name": "stdout",
     "output_type": "stream",
     "text": [
      "reweight\n",
      "dict_keys(['pre', 'post', 'pre_post', 'proxy'])\n",
      "pre\n",
      "post\n",
      "pre_post\n",
      "proxy\n",
      "fair_lr\n",
      "dict_keys(['pre', 'post', 'pre_post', 'proxy'])\n",
      "pre\n",
      "post\n",
      "pre_post\n",
      "proxy\n"
     ]
    },
    {
     "data": {
      "text/plain": [
       "{'reweight': {'pre': {'proxy': {'accuracy': 0.83,\n",
       "    'precision': 0.8285714285714286,\n",
       "    'f1_score': 0.8721804511278196,\n",
       "    'recall': 0.9206349206349206,\n",
       "    'Overall selection rate': 0.7,\n",
       "    'Demographic parity difference': 0.06944444444444442,\n",
       "    'Demographic parity ratio': 0.9074074074074074,\n",
       "    'False positive rate difference': 0.38333333333333336,\n",
       "    'Equalized odds difference': 0.38333333333333336,\n",
       "    'False negative rate difference': 0.06117021276595745},\n",
       "   'fair': {'accuracy': 0.56,\n",
       "    'precision': 0.6857142857142857,\n",
       "    'f1_score': 0.6857142857142857,\n",
       "    'recall': 0.6857142857142857,\n",
       "    'Overall selection rate': 0.7,\n",
       "    'Demographic parity difference': 0.06944444444444442,\n",
       "    'Demographic parity ratio': 0.9074074074074074,\n",
       "    'False positive rate difference': 0.13397129186602874,\n",
       "    'Equalized odds difference': 0.13397129186602874,\n",
       "    'False negative rate difference': 0.02663706992230852}},\n",
       "  'post': {'proxy': {'accuracy': 0.71,\n",
       "    'precision': 0.6931818181818182,\n",
       "    'f1_score': 0.8079470198675497,\n",
       "    'recall': 0.9682539682539683,\n",
       "    'Overall selection rate': 0.88,\n",
       "    'Demographic parity difference': 0.06746031746031744,\n",
       "    'Demographic parity ratio': 0.9273504273504274,\n",
       "    'False positive rate difference': 0.15333333333333332,\n",
       "    'Equalized odds difference': 0.15333333333333332,\n",
       "    'False negative rate difference': 0.0425531914893617},\n",
       "   'fair': {'accuracy': 0.7,\n",
       "    'precision': 0.7272727272727273,\n",
       "    'f1_score': 0.810126582278481,\n",
       "    'recall': 0.9142857142857143,\n",
       "    'Overall selection rate': 0.88,\n",
       "    'Demographic parity difference': 0.06746031746031744,\n",
       "    'Demographic parity ratio': 0.9273504273504274,\n",
       "    'False positive rate difference': 0.1722488038277512,\n",
       "    'Equalized odds difference': 0.1722488038277512,\n",
       "    'False negative rate difference': 0.035516093229744736}},\n",
       "  'pre_post': {'proxy': {'accuracy': 0.83,\n",
       "    'precision': 0.8285714285714286,\n",
       "    'f1_score': 0.8721804511278196,\n",
       "    'recall': 0.9206349206349206,\n",
       "    'Overall selection rate': 0.7,\n",
       "    'Demographic parity difference': 0.06944444444444442,\n",
       "    'Demographic parity ratio': 0.9074074074074074,\n",
       "    'False positive rate difference': 0.38333333333333336,\n",
       "    'Equalized odds difference': 0.38333333333333336,\n",
       "    'False negative rate difference': 0.06117021276595745},\n",
       "   'fair': {'accuracy': 0.56,\n",
       "    'precision': 0.6857142857142857,\n",
       "    'f1_score': 0.6857142857142857,\n",
       "    'recall': 0.6857142857142857,\n",
       "    'Overall selection rate': 0.7,\n",
       "    'Demographic parity difference': 0.06944444444444442,\n",
       "    'Demographic parity ratio': 0.9074074074074074,\n",
       "    'False positive rate difference': 0.13397129186602874,\n",
       "    'Equalized odds difference': 0.13397129186602874,\n",
       "    'False negative rate difference': 0.02663706992230852}},\n",
       "  'proxy': {'proxy': {'accuracy': 0.71,\n",
       "    'precision': 0.6931818181818182,\n",
       "    'f1_score': 0.8079470198675497,\n",
       "    'recall': 0.9682539682539683,\n",
       "    'Overall selection rate': 0.88,\n",
       "    'Demographic parity difference': 0.06746031746031744,\n",
       "    'Demographic parity ratio': 0.9273504273504274,\n",
       "    'False positive rate difference': 0.15333333333333332,\n",
       "    'Equalized odds difference': 0.15333333333333332,\n",
       "    'False negative rate difference': 0.0425531914893617},\n",
       "   'fair': {'accuracy': 0.7,\n",
       "    'precision': 0.7272727272727273,\n",
       "    'f1_score': 0.810126582278481,\n",
       "    'recall': 0.9142857142857143,\n",
       "    'Overall selection rate': 0.88,\n",
       "    'Demographic parity difference': 0.06746031746031744,\n",
       "    'Demographic parity ratio': 0.9273504273504274,\n",
       "    'False positive rate difference': 0.1722488038277512,\n",
       "    'Equalized odds difference': 0.1722488038277512,\n",
       "    'False negative rate difference': 0.035516093229744736}}},\n",
       " 'fair_lr': {'pre': {'proxy': {'accuracy': 0.85,\n",
       "    'precision': 0.8428571428571429,\n",
       "    'f1_score': 0.887218045112782,\n",
       "    'recall': 0.9365079365079365,\n",
       "    'Overall selection rate': 0.7,\n",
       "    'Demographic parity difference': 0.019841269841269882,\n",
       "    'Demographic parity ratio': 0.9722222222222222,\n",
       "    'False positive rate difference': 0.3,\n",
       "    'Equalized odds difference': 0.3,\n",
       "    'False negative rate difference': 0.08244680851063829},\n",
       "   'fair': {'accuracy': 0.56,\n",
       "    'precision': 0.6857142857142857,\n",
       "    'f1_score': 0.6857142857142857,\n",
       "    'recall': 0.6857142857142857,\n",
       "    'Overall selection rate': 0.7,\n",
       "    'Demographic parity difference': 0.019841269841269882,\n",
       "    'Demographic parity ratio': 0.9722222222222222,\n",
       "    'False positive rate difference': 0.13397129186602874,\n",
       "    'Equalized odds difference': 0.13397129186602874,\n",
       "    'False negative rate difference': 0.05105438401775808}},\n",
       "  'post': {'proxy': {'accuracy': 0.69,\n",
       "    'precision': 0.6951219512195121,\n",
       "    'f1_score': 0.786206896551724,\n",
       "    'recall': 0.9047619047619048,\n",
       "    'Overall selection rate': 0.82,\n",
       "    'Demographic parity difference': 0.1507936507936508,\n",
       "    'Demographic parity ratio': 0.8376068376068376,\n",
       "    'False positive rate difference': 0.2333333333333334,\n",
       "    'Equalized odds difference': 0.2333333333333334,\n",
       "    'False negative rate difference': 0.1276595744680851},\n",
       "   'fair': {'accuracy': 0.64,\n",
       "    'precision': 0.7073170731707317,\n",
       "    'f1_score': 0.7631578947368421,\n",
       "    'recall': 0.8285714285714286,\n",
       "    'Overall selection rate': 0.82,\n",
       "    'Demographic parity difference': 0.1507936507936508,\n",
       "    'Demographic parity ratio': 0.8376068376068376,\n",
       "    'False positive rate difference': 0.1722488038277512,\n",
       "    'Equalized odds difference': 0.1722488038277512,\n",
       "    'False negative rate difference': 0.14872364039955605}},\n",
       "  'pre_post': {'proxy': {'accuracy': 0.85,\n",
       "    'precision': 0.8428571428571429,\n",
       "    'f1_score': 0.887218045112782,\n",
       "    'recall': 0.9365079365079365,\n",
       "    'Overall selection rate': 0.7,\n",
       "    'Demographic parity difference': 0.019841269841269882,\n",
       "    'Demographic parity ratio': 0.9722222222222222,\n",
       "    'False positive rate difference': 0.3,\n",
       "    'Equalized odds difference': 0.3,\n",
       "    'False negative rate difference': 0.08244680851063829},\n",
       "   'fair': {'accuracy': 0.56,\n",
       "    'precision': 0.6857142857142857,\n",
       "    'f1_score': 0.6857142857142857,\n",
       "    'recall': 0.6857142857142857,\n",
       "    'Overall selection rate': 0.7,\n",
       "    'Demographic parity difference': 0.019841269841269882,\n",
       "    'Demographic parity ratio': 0.9722222222222222,\n",
       "    'False positive rate difference': 0.13397129186602874,\n",
       "    'Equalized odds difference': 0.13397129186602874,\n",
       "    'False negative rate difference': 0.05105438401775808}},\n",
       "  'proxy': {'proxy': {'accuracy': 0.69,\n",
       "    'precision': 0.6951219512195121,\n",
       "    'f1_score': 0.786206896551724,\n",
       "    'recall': 0.9047619047619048,\n",
       "    'Overall selection rate': 0.82,\n",
       "    'Demographic parity difference': 0.1507936507936508,\n",
       "    'Demographic parity ratio': 0.8376068376068376,\n",
       "    'False positive rate difference': 0.2333333333333334,\n",
       "    'Equalized odds difference': 0.2333333333333334,\n",
       "    'False negative rate difference': 0.1276595744680851},\n",
       "   'fair': {'accuracy': 0.64,\n",
       "    'precision': 0.7073170731707317,\n",
       "    'f1_score': 0.7631578947368421,\n",
       "    'recall': 0.8285714285714286,\n",
       "    'Overall selection rate': 0.82,\n",
       "    'Demographic parity difference': 0.1507936507936508,\n",
       "    'Demographic parity ratio': 0.8376068376068376,\n",
       "    'False positive rate difference': 0.1722488038277512,\n",
       "    'Equalized odds difference': 0.1722488038277512,\n",
       "    'False negative rate difference': 0.14872364039955605}}}}"
      ]
     },
     "execution_count": 13,
     "metadata": {},
     "output_type": "execute_result"
    }
   ],
   "source": [
    "analyze(models_dict, s_test)"
   ]
  },
  {
   "cell_type": "code",
   "execution_count": 14,
   "metadata": {},
   "outputs": [
    {
     "data": {
      "text/plain": [
       "dict_keys([])"
      ]
     },
     "execution_count": 14,
     "metadata": {},
     "output_type": "execute_result"
    }
   ],
   "source": [
    "ans.keys()"
   ]
  }
 ],
 "metadata": {
  "kernelspec": {
   "display_name": "debias",
   "language": "python",
   "name": "python3"
  },
  "language_info": {
   "codemirror_mode": {
    "name": "ipython",
    "version": 3
   },
   "file_extension": ".py",
   "mimetype": "text/x-python",
   "name": "python",
   "nbconvert_exporter": "python",
   "pygments_lexer": "ipython3",
   "version": "3.11.1"
  },
  "orig_nbformat": 4,
  "vscode": {
   "interpreter": {
    "hash": "ced59da7133df83b331c1c27c8f34cf1a7a737ef2fbfbc796b57e0b90e968204"
   }
  }
 },
 "nbformat": 4,
 "nbformat_minor": 2
}
